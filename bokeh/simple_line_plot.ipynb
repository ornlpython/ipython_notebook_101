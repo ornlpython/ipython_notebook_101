{
 "cells": [
  {
   "cell_type": "code",
   "execution_count": 1,
   "metadata": {
    "collapsed": false
   },
   "outputs": [
    {
     "data": {
      "text/html": [
       "\n",
       "    <div class=\"bk-banner\">\n",
       "        <a href=\"http://bokeh.pydata.org\" target=\"_blank\" class=\"bk-logo bk-logo-small bk-logo-notebook\"></a>\n",
       "        <span id=\"0570a54c-815d-49a6-83f8-0cd7a265d202\">Loading BokehJS ...</span>\n",
       "    </div>"
      ]
     },
     "metadata": {},
     "output_type": "display_data"
    },
    {
     "data": {
      "application/javascript": [
       "\n",
       "(function(global) {\n",
       "  function now() {\n",
       "    return new Date();\n",
       "  }\n",
       "\n",
       "  if (typeof (window._bokeh_onload_callbacks) === \"undefined\") {\n",
       "    window._bokeh_onload_callbacks = [];\n",
       "  }\n",
       "\n",
       "  function run_callbacks() {\n",
       "    window._bokeh_onload_callbacks.forEach(function(callback) { callback() });\n",
       "    delete window._bokeh_onload_callbacks\n",
       "    console.info(\"Bokeh: all callbacks have finished\");\n",
       "  }\n",
       "\n",
       "  function load_libs(js_urls, callback) {\n",
       "    window._bokeh_onload_callbacks.push(callback);\n",
       "    if (window._bokeh_is_loading > 0) {\n",
       "      console.log(\"Bokeh: BokehJS is being loaded, scheduling callback at\", now());\n",
       "      return null;\n",
       "    }\n",
       "    if (js_urls == null || js_urls.length === 0) {\n",
       "      run_callbacks();\n",
       "      return null;\n",
       "    }\n",
       "    console.log(\"Bokeh: BokehJS not loaded, scheduling load and callback at\", now());\n",
       "    window._bokeh_is_loading = js_urls.length;\n",
       "    for (var i = 0; i < js_urls.length; i++) {\n",
       "      var url = js_urls[i];\n",
       "      var s = document.createElement('script');\n",
       "      s.src = url;\n",
       "      s.async = false;\n",
       "      s.onreadystatechange = s.onload = function() {\n",
       "        window._bokeh_is_loading--;\n",
       "        if (window._bokeh_is_loading === 0) {\n",
       "          console.log(\"Bokeh: all BokehJS libraries loaded\");\n",
       "          run_callbacks()\n",
       "        }\n",
       "      };\n",
       "      s.onerror = function() {\n",
       "        console.warn(\"failed to load library \" + url);\n",
       "      };\n",
       "      console.log(\"Bokeh: injecting script tag for BokehJS library: \", url);\n",
       "      document.getElementsByTagName(\"head\")[0].appendChild(s);\n",
       "    }\n",
       "  };\n",
       "\n",
       "  var js_urls = ['https://cdn.pydata.org/bokeh/release/bokeh-0.11.1.min.js', 'https://cdn.pydata.org/bokeh/release/bokeh-widgets-0.11.1.min.js', 'https://cdn.pydata.org/bokeh/release/bokeh-compiler-0.11.1.min.js'];\n",
       "\n",
       "  var inline_js = [\n",
       "    function(Bokeh) {\n",
       "      Bokeh.set_log_level(\"info\");\n",
       "    },\n",
       "    \n",
       "    function(Bokeh) {\n",
       "      Bokeh.$(\"#0570a54c-815d-49a6-83f8-0cd7a265d202\").text(\"BokehJS successfully loaded\");\n",
       "    },\n",
       "    function(Bokeh) {\n",
       "      console.log(\"Bokeh: injecting CSS: https://cdn.pydata.org/bokeh/release/bokeh-0.11.1.min.css\");\n",
       "      Bokeh.embed.inject_css(\"https://cdn.pydata.org/bokeh/release/bokeh-0.11.1.min.css\");\n",
       "      console.log(\"Bokeh: injecting CSS: https://cdn.pydata.org/bokeh/release/bokeh-widgets-0.11.1.min.css\");\n",
       "      Bokeh.embed.inject_css(\"https://cdn.pydata.org/bokeh/release/bokeh-widgets-0.11.1.min.css\");\n",
       "    }\n",
       "  ];\n",
       "\n",
       "  function run_inline_js() {\n",
       "    for (var i = 0; i < inline_js.length; i++) {\n",
       "      inline_js[i](window.Bokeh);\n",
       "    }\n",
       "  }\n",
       "\n",
       "  if (window._bokeh_is_loading === 0) {\n",
       "    console.log(\"Bokeh: BokehJS loaded, going straight to plotting\");\n",
       "    run_inline_js();\n",
       "  } else {\n",
       "    load_libs(js_urls, function() {\n",
       "      console.log(\"Bokeh: BokehJS plotting callback run at\", now());\n",
       "      run_inline_js();\n",
       "    });\n",
       "  }\n",
       "}(this));"
      ]
     },
     "metadata": {},
     "output_type": "display_data"
    }
   ],
   "source": [
    "from bokeh.io import output_notebook, show\n",
    "output_notebook()"
   ]
  },
  {
   "cell_type": "code",
   "execution_count": 2,
   "metadata": {
    "collapsed": false
   },
   "outputs": [
    {
     "data": {
      "text/html": [
       "\n",
       "\n",
       "    <div class=\"plotdiv\" id=\"aa2f94cb-9dce-4fa9-8e2f-863e51fdfc7d\"></div>\n",
       "<script type=\"text/javascript\">\n",
       "  \n",
       "  (function(global) {\n",
       "    function now() {\n",
       "      return new Date();\n",
       "    }\n",
       "  \n",
       "    if (typeof (window._bokeh_onload_callbacks) === \"undefined\") {\n",
       "      window._bokeh_onload_callbacks = [];\n",
       "    }\n",
       "  \n",
       "    function run_callbacks() {\n",
       "      window._bokeh_onload_callbacks.forEach(function(callback) { callback() });\n",
       "      delete window._bokeh_onload_callbacks\n",
       "      console.info(\"Bokeh: all callbacks have finished\");\n",
       "    }\n",
       "  \n",
       "    function load_libs(js_urls, callback) {\n",
       "      window._bokeh_onload_callbacks.push(callback);\n",
       "      if (window._bokeh_is_loading > 0) {\n",
       "        console.log(\"Bokeh: BokehJS is being loaded, scheduling callback at\", now());\n",
       "        return null;\n",
       "      }\n",
       "      if (js_urls == null || js_urls.length === 0) {\n",
       "        run_callbacks();\n",
       "        return null;\n",
       "      }\n",
       "      console.log(\"Bokeh: BokehJS not loaded, scheduling load and callback at\", now());\n",
       "      window._bokeh_is_loading = js_urls.length;\n",
       "      for (var i = 0; i < js_urls.length; i++) {\n",
       "        var url = js_urls[i];\n",
       "        var s = document.createElement('script');\n",
       "        s.src = url;\n",
       "        s.async = false;\n",
       "        s.onreadystatechange = s.onload = function() {\n",
       "          window._bokeh_is_loading--;\n",
       "          if (window._bokeh_is_loading === 0) {\n",
       "            console.log(\"Bokeh: all BokehJS libraries loaded\");\n",
       "            run_callbacks()\n",
       "          }\n",
       "        };\n",
       "        s.onerror = function() {\n",
       "          console.warn(\"failed to load library \" + url);\n",
       "        };\n",
       "        console.log(\"Bokeh: injecting script tag for BokehJS library: \", url);\n",
       "        document.getElementsByTagName(\"head\")[0].appendChild(s);\n",
       "      }\n",
       "    };var element = document.getElementById(\"aa2f94cb-9dce-4fa9-8e2f-863e51fdfc7d\");\n",
       "    if (element == null) {\n",
       "      console.log(\"Bokeh: ERROR: autoload.js configured with elementid 'aa2f94cb-9dce-4fa9-8e2f-863e51fdfc7d' but no matching script tag was found. \")\n",
       "      return false;\n",
       "    }\n",
       "  \n",
       "    var js_urls = [];\n",
       "  \n",
       "    var inline_js = [\n",
       "      function(Bokeh) {\n",
       "        Bokeh.$(function() {\n",
       "            var docs_json = {\"786584f8-3565-46f0-afde-bd1bf00f33e6\":{\"roots\":{\"references\":[{\"attributes\":{\"formatter\":{\"id\":\"1bcf4940-6b6e-4936-8557-8e94e663d000\",\"type\":\"BasicTickFormatter\"},\"plot\":{\"id\":\"38a2a52c-29ad-4374-ad44-f7a14254a94f\",\"subtype\":\"Figure\",\"type\":\"Plot\"},\"ticker\":{\"id\":\"aebfb4ba-7e3b-451b-a43b-4c920d7a7d80\",\"type\":\"BasicTicker\"}},\"id\":\"fbb1334d-5484-4784-b2b6-ff4cfd085fc3\",\"type\":\"LinearAxis\"},{\"attributes\":{\"plot\":{\"id\":\"38a2a52c-29ad-4374-ad44-f7a14254a94f\",\"subtype\":\"Figure\",\"type\":\"Plot\"}},\"id\":\"40dbe882-213d-418a-b33c-ef1005335f4b\",\"type\":\"ResizeTool\"},{\"attributes\":{\"data_source\":{\"id\":\"364cec1d-af09-4f69-b268-5519c474f562\",\"type\":\"ColumnDataSource\"},\"glyph\":{\"id\":\"9187ed83-dcd4-4ba5-b9b7-206ed4a7164f\",\"type\":\"Line\"},\"hover_glyph\":null,\"nonselection_glyph\":{\"id\":\"a09e24b3-bcab-4acd-8a78-cf26389aed79\",\"type\":\"Line\"},\"selection_glyph\":null},\"id\":\"767e79a5-0421-49ee-8d59-7a67a73a698b\",\"type\":\"GlyphRenderer\"},{\"attributes\":{\"plot\":{\"id\":\"38a2a52c-29ad-4374-ad44-f7a14254a94f\",\"subtype\":\"Figure\",\"type\":\"Plot\"}},\"id\":\"01ab94e8-a3c9-4e39-ad2c-1def57109fa0\",\"type\":\"WheelZoomTool\"},{\"attributes\":{},\"id\":\"23fbccb6-a1b5-42b1-ba6b-abdb6e437937\",\"type\":\"BasicTicker\"},{\"attributes\":{},\"id\":\"aebfb4ba-7e3b-451b-a43b-4c920d7a7d80\",\"type\":\"BasicTicker\"},{\"attributes\":{},\"id\":\"1bcf4940-6b6e-4936-8557-8e94e663d000\",\"type\":\"BasicTickFormatter\"},{\"attributes\":{\"below\":[{\"id\":\"fbb1334d-5484-4784-b2b6-ff4cfd085fc3\",\"type\":\"LinearAxis\"}],\"left\":[{\"id\":\"0250055f-4467-46a5-bda7-b71a7be8da7a\",\"type\":\"LinearAxis\"}],\"renderers\":[{\"id\":\"fbb1334d-5484-4784-b2b6-ff4cfd085fc3\",\"type\":\"LinearAxis\"},{\"id\":\"24be995b-693b-4f8f-83ca-cef6954f7516\",\"type\":\"Grid\"},{\"id\":\"0250055f-4467-46a5-bda7-b71a7be8da7a\",\"type\":\"LinearAxis\"},{\"id\":\"19ea0091-2ed6-4179-9eb5-b07bde2fdf5e\",\"type\":\"Grid\"},{\"id\":\"d4f4ec4a-45c1-428f-8c41-a0fe109b2578\",\"type\":\"BoxAnnotation\"},{\"id\":\"767e79a5-0421-49ee-8d59-7a67a73a698b\",\"type\":\"GlyphRenderer\"}],\"tool_events\":{\"id\":\"85ef05f7-39a4-4416-a130-99c29890d489\",\"type\":\"ToolEvents\"},\"tools\":[{\"id\":\"bafe2315-8135-44a1-a32d-a6e32a7d98fe\",\"type\":\"PanTool\"},{\"id\":\"01ab94e8-a3c9-4e39-ad2c-1def57109fa0\",\"type\":\"WheelZoomTool\"},{\"id\":\"2fa51147-461a-4305-a856-4bbbabf40ba2\",\"type\":\"BoxZoomTool\"},{\"id\":\"2a1098ed-8db0-4962-b17e-2871eeec1264\",\"type\":\"PreviewSaveTool\"},{\"id\":\"40dbe882-213d-418a-b33c-ef1005335f4b\",\"type\":\"ResizeTool\"},{\"id\":\"3da3a8c9-6b10-4242-b9d3-8c58a73d5dbe\",\"type\":\"ResetTool\"},{\"id\":\"7051d227-f28a-42a0-827a-6a8b949ee4ea\",\"type\":\"HelpTool\"}],\"x_range\":{\"id\":\"f4c13a15-c882-43d2-ac66-249ff40bd9f1\",\"type\":\"DataRange1d\"},\"y_range\":{\"id\":\"f2e008e4-15a6-4cc4-85fa-bcfe3a375222\",\"type\":\"DataRange1d\"}},\"id\":\"38a2a52c-29ad-4374-ad44-f7a14254a94f\",\"subtype\":\"Figure\",\"type\":\"Plot\"},{\"attributes\":{},\"id\":\"85ef05f7-39a4-4416-a130-99c29890d489\",\"type\":\"ToolEvents\"},{\"attributes\":{\"plot\":{\"id\":\"38a2a52c-29ad-4374-ad44-f7a14254a94f\",\"subtype\":\"Figure\",\"type\":\"Plot\"}},\"id\":\"2a1098ed-8db0-4962-b17e-2871eeec1264\",\"type\":\"PreviewSaveTool\"},{\"attributes\":{\"callback\":null},\"id\":\"f2e008e4-15a6-4cc4-85fa-bcfe3a375222\",\"type\":\"DataRange1d\"},{\"attributes\":{},\"id\":\"150d2260-8b3b-49c3-99d6-b2c9e8ccb1f2\",\"type\":\"BasicTickFormatter\"},{\"attributes\":{\"formatter\":{\"id\":\"150d2260-8b3b-49c3-99d6-b2c9e8ccb1f2\",\"type\":\"BasicTickFormatter\"},\"plot\":{\"id\":\"38a2a52c-29ad-4374-ad44-f7a14254a94f\",\"subtype\":\"Figure\",\"type\":\"Plot\"},\"ticker\":{\"id\":\"23fbccb6-a1b5-42b1-ba6b-abdb6e437937\",\"type\":\"BasicTicker\"}},\"id\":\"0250055f-4467-46a5-bda7-b71a7be8da7a\",\"type\":\"LinearAxis\"},{\"attributes\":{\"callback\":null},\"id\":\"f4c13a15-c882-43d2-ac66-249ff40bd9f1\",\"type\":\"DataRange1d\"},{\"attributes\":{\"callback\":null,\"column_names\":[\"y\",\"x\"],\"data\":{\"x\":[0.0,0.12693303650867852,0.25386607301735703,0.3807991095260356,0.5077321460347141,0.6346651825433925,0.7615982190520711,0.8885312555607496,1.0154642920694281,1.1423973285781066,1.269330365086785,1.3962634015954636,1.5231964381041423,1.6501294746128208,1.7770625111214993,1.9039955476301778,2.0309285841388562,2.1578616206475347,2.284794657156213,2.4117276936648917,2.53866073017357,2.6655937666822487,2.792526803190927,2.9194598396996057,3.0463928762082846,3.173325912716963,3.3002589492256416,3.42719198573432,3.5541250222429985,3.681058058751677,3.8079910952603555,3.934924131769034,4.0618571682777125,4.188790204786391,4.3157232412950695,4.442656277803748,4.569589314312426,4.696522350821105,4.823455387329783,4.950388423838462,5.07732146034714,5.204254496855819,5.331187533364497,5.458120569873176,5.585053606381854,5.711986642890533,5.838919679399211,5.96585271590789,6.092785752416569,6.219718788925247,6.346651825433926,6.473584861942604,6.600517898451283,6.727450934959961,6.85438397146864,6.981317007977318,7.108250044485997,7.235183080994675,7.362116117503354,7.489049154012032,7.615982190520711,7.742915227029389,7.869848263538068,7.996781300046746,8.123714336555425,8.250647373064103,8.377580409572783,8.50451344608146,8.631446482590139,8.758379519098817,8.885312555607497,9.012245592116175,9.139178628624853,9.266111665133531,9.39304470164221,9.519977738150889,9.646910774659567,9.773843811168245,9.900776847676925,10.027709884185603,10.15464292069428,10.28157595720296,10.408508993711639,10.535442030220317,10.662375066728995,10.789308103237675,10.916241139746353,11.04317417625503,11.170107212763709,11.297040249272388,11.423973285781067,11.550906322289745,11.677839358798423,11.804772395307102,11.93170543181578,12.058638468324459,12.185571504833138,12.312504541341816,12.439437577850494,12.566370614359172],\"y\":[0.0,0.12659245357374926,0.2511479871810792,0.3716624556603276,0.4861967361004687,0.5929079290546404,0.690079011482112,0.7761464642917568,0.8497254299495144,0.9096319953545183,0.9549022414440739,0.984807753012208,0.998867339183008,0.9968547759519424,0.9788024462147787,0.9450008187146685,0.8959937742913359,0.8325698546347714,0.7557495743542584,0.6667690005162916,0.5670598638627709,0.4582265217274105,0.3420201433256689,0.2203105327865408,0.09505604330418244,-0.03172793349806785,-0.15800139597335008,-0.28173255684142984,-0.40093053540661383,-0.5136773915734064,-0.6181589862206053,-0.7126941713788628,-0.7957618405308321,-0.8660254037844388,-0.9223542941045814,-0.9638421585599422,-0.9898214418809327,-0.9998741276738751,-0.9938384644612541,-0.9718115683235417,-0.9341478602651068,-0.881453363447582,-0.814575952050336,-0.7345917086575331,-0.6427876096865396,-0.5406408174555974,-0.4297949120891719,-0.31203344569848707,-0.18925124436040974,-0.06342391965656452,0.06342391965656491,0.18925124436041013,0.31203344569848745,0.42979491208917153,0.5406408174555979,0.6427876096865393,0.7345917086575334,0.8145759520503355,0.8814533634475821,0.9341478602651067,0.9718115683235418,0.9938384644612541,0.9998741276738751,0.9898214418809328,0.963842158559942,0.9223542941045816,0.8660254037844383,0.7957618405308319,0.7126941713788629,0.6181589862206056,0.5136773915734056,0.40093053540661344,0.2817325568414299,0.15800139597335056,0.03172793349806701,-0.09505604330418284,-0.22031053278654034,-0.342020143325668,-0.45822652172741085,-0.5670598638627709,-0.6667690005162913,-0.7557495743542588,-0.8325698546347716,-0.8959937742913359,-0.9450008187146683,-0.9788024462147789,-0.9968547759519424,-0.998867339183008,-0.9848077530122081,-0.9549022414440737,-0.9096319953545183,-0.8497254299495145,-0.7761464642917573,-0.6900790114821116,-0.5929079290546404,-0.486196736100469,-0.3716624556603267,-0.2511479871810788,-0.1265924535737493,-4.898587196589413e-16]}},\"id\":\"364cec1d-af09-4f69-b268-5519c474f562\",\"type\":\"ColumnDataSource\"},{\"attributes\":{\"plot\":{\"id\":\"38a2a52c-29ad-4374-ad44-f7a14254a94f\",\"subtype\":\"Figure\",\"type\":\"Plot\"},\"ticker\":{\"id\":\"aebfb4ba-7e3b-451b-a43b-4c920d7a7d80\",\"type\":\"BasicTicker\"}},\"id\":\"24be995b-693b-4f8f-83ca-cef6954f7516\",\"type\":\"Grid\"},{\"attributes\":{\"plot\":{\"id\":\"38a2a52c-29ad-4374-ad44-f7a14254a94f\",\"subtype\":\"Figure\",\"type\":\"Plot\"}},\"id\":\"3da3a8c9-6b10-4242-b9d3-8c58a73d5dbe\",\"type\":\"ResetTool\"},{\"attributes\":{\"overlay\":{\"id\":\"d4f4ec4a-45c1-428f-8c41-a0fe109b2578\",\"type\":\"BoxAnnotation\"},\"plot\":{\"id\":\"38a2a52c-29ad-4374-ad44-f7a14254a94f\",\"subtype\":\"Figure\",\"type\":\"Plot\"}},\"id\":\"2fa51147-461a-4305-a856-4bbbabf40ba2\",\"type\":\"BoxZoomTool\"},{\"attributes\":{\"plot\":{\"id\":\"38a2a52c-29ad-4374-ad44-f7a14254a94f\",\"subtype\":\"Figure\",\"type\":\"Plot\"}},\"id\":\"bafe2315-8135-44a1-a32d-a6e32a7d98fe\",\"type\":\"PanTool\"},{\"attributes\":{\"line_color\":{\"value\":\"#1f77b4\"},\"x\":{\"field\":\"x\"},\"y\":{\"field\":\"y\"}},\"id\":\"9187ed83-dcd4-4ba5-b9b7-206ed4a7164f\",\"type\":\"Line\"},{\"attributes\":{\"bottom_units\":\"screen\",\"fill_alpha\":{\"value\":0.5},\"fill_color\":{\"value\":\"lightgrey\"},\"left_units\":\"screen\",\"level\":\"overlay\",\"line_alpha\":{\"value\":1.0},\"line_color\":{\"value\":\"black\"},\"line_dash\":[4,4],\"line_width\":{\"value\":2},\"plot\":null,\"render_mode\":\"css\",\"right_units\":\"screen\",\"top_units\":\"screen\"},\"id\":\"d4f4ec4a-45c1-428f-8c41-a0fe109b2578\",\"type\":\"BoxAnnotation\"},{\"attributes\":{\"dimension\":1,\"plot\":{\"id\":\"38a2a52c-29ad-4374-ad44-f7a14254a94f\",\"subtype\":\"Figure\",\"type\":\"Plot\"},\"ticker\":{\"id\":\"23fbccb6-a1b5-42b1-ba6b-abdb6e437937\",\"type\":\"BasicTicker\"}},\"id\":\"19ea0091-2ed6-4179-9eb5-b07bde2fdf5e\",\"type\":\"Grid\"},{\"attributes\":{\"line_alpha\":{\"value\":0.1},\"line_color\":{\"value\":\"#1f77b4\"},\"x\":{\"field\":\"x\"},\"y\":{\"field\":\"y\"}},\"id\":\"a09e24b3-bcab-4acd-8a78-cf26389aed79\",\"type\":\"Line\"},{\"attributes\":{\"plot\":{\"id\":\"38a2a52c-29ad-4374-ad44-f7a14254a94f\",\"subtype\":\"Figure\",\"type\":\"Plot\"}},\"id\":\"7051d227-f28a-42a0-827a-6a8b949ee4ea\",\"type\":\"HelpTool\"}],\"root_ids\":[\"38a2a52c-29ad-4374-ad44-f7a14254a94f\"]},\"title\":\"Bokeh Application\",\"version\":\"0.11.1\"}};\n",
       "            var render_items = [{\"docid\":\"786584f8-3565-46f0-afde-bd1bf00f33e6\",\"elementid\":\"aa2f94cb-9dce-4fa9-8e2f-863e51fdfc7d\",\"modelid\":\"38a2a52c-29ad-4374-ad44-f7a14254a94f\",\"notebook_comms_target\":\"52e1c92c-d453-4473-9fab-a55930276d6f\"}];\n",
       "            \n",
       "            Bokeh.embed.embed_items(docs_json, render_items);\n",
       "        });\n",
       "      },\n",
       "      function(Bokeh) {\n",
       "      }\n",
       "    ];\n",
       "  \n",
       "    function run_inline_js() {\n",
       "      for (var i = 0; i < inline_js.length; i++) {\n",
       "        inline_js[i](window.Bokeh);\n",
       "      }\n",
       "    }\n",
       "  \n",
       "    if (window._bokeh_is_loading === 0) {\n",
       "      console.log(\"Bokeh: BokehJS loaded, going straight to plotting\");\n",
       "      run_inline_js();\n",
       "    } else {\n",
       "      load_libs(js_urls, function() {\n",
       "        console.log(\"Bokeh: BokehJS plotting callback run at\", now());\n",
       "        run_inline_js();\n",
       "      });\n",
       "    }\n",
       "  }(this));\n",
       "</script>"
      ]
     },
     "metadata": {},
     "output_type": "display_data"
    },
    {
     "data": {
      "text/html": [
       "<p><code>&lt;Bokeh Notebook handle for <strong>In[2]</strong>&gt;</code></p>"
      ],
      "text/plain": [
       "<bokeh.io._CommsHandle at 0x10d178b00>"
      ]
     },
     "execution_count": 2,
     "metadata": {},
     "output_type": "execute_result"
    }
   ],
   "source": [
    "# set up some data\n",
    "import numpy as np\n",
    "\n",
    "x = np.linspace(0, 4*np.pi, 100)\n",
    "y = np.sin(x)\n",
    "\n",
    "#plot a line\n",
    "from bokeh.plotting import figure\n",
    "plot = figure()\n",
    "plot.line(x, y)\n",
    "show(plot)"
   ]
  },
  {
   "cell_type": "code",
   "execution_count": null,
   "metadata": {
    "collapsed": true
   },
   "outputs": [],
   "source": []
  }
 ],
 "metadata": {
  "kernelspec": {
   "display_name": "Python 3",
   "language": "python",
   "name": "python3"
  },
  "language_info": {
   "codemirror_mode": {
    "name": "ipython",
    "version": 3
   },
   "file_extension": ".py",
   "mimetype": "text/x-python",
   "name": "python",
   "nbconvert_exporter": "python",
   "pygments_lexer": "ipython3",
   "version": "3.5.1"
  }
 },
 "nbformat": 4,
 "nbformat_minor": 0
}
