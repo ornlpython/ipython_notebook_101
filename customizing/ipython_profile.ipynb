{
 "cells": [
  {
   "cell_type": "code",
   "execution_count": 1,
   "metadata": {
    "collapsed": false,
    "scrolled": true
   },
   "outputs": [
    {
     "name": "stdout",
     "output_type": "stream",
     "text": [
      "[ProfileCreate] Generating default config file: '/Users/j35/.ipython/profile_default/ipython_config.py'\n",
      "[ProfileCreate] Generating default config file: '/Users/j35/.ipython/profile_default/ipython_kernel_config.py'\n"
     ]
    }
   ],
   "source": [
    "!ipython profile create"
   ]
  },
  {
   "cell_type": "code",
   "execution_count": 1,
   "metadata": {
    "collapsed": false
   },
   "outputs": [
    {
     "name": "stdout",
     "output_type": "stream",
     "text": [
      "Overwriting /Users/j35/.ipython/profile_default/startup/start.ipy\n"
     ]
    }
   ],
   "source": [
    "%%file /Users/j35/.ipython/profile_default/startup/start.ipy\n",
    "\n",
    "import os\n",
    "import sys\n",
    "import glob\n",
    "import numpy as np\n",
    "import pandas as pd\n",
    "import matplotlib.pyplot as plt\n",
    "import seaborn as sns\n",
    "\n",
    "print('here')\n",
    "\n",
    "import continuum_style\n",
    "continuum_style.style()\n",
    "\n",
    "%matplotlib inline"
   ]
  },
  {
   "cell_type": "code",
   "execution_count": 2,
   "metadata": {
    "collapsed": false
   },
   "outputs": [],
   "source": [
    "import continuum_style"
   ]
  },
  {
   "cell_type": "code",
   "execution_count": 3,
   "metadata": {
    "collapsed": false
   },
   "outputs": [
    {
     "data": {
      "text/html": [
       "<style>\n",
       "\n",
       "/* The following CSS has been adapted from\n",
       "   http://nbviewer.ipython.org/github/ketch/teaching-numerics-with-notebooks/blob/master/Styling_notebooks.ipynb\n",
       "   by Aron Ahmadia and David Ketcheson and has been reused under CC BY 4.0\n",
       "   */\n",
       "\n",
       "#site { /* main background */\n",
       "    background: #888;\n",
       "    color: #red; \n",
       "}\n",
       "\n",
       "div.container {\n",
       "    width: 100% ! important;\n",
       "}\n",
       "\n",
       "div.cell { /* set cell width to about 80 chars */\n",
       "    width: 95%;\n",
       "}\n",
       "\n",
       "div #notebook { /* centre the content */\n",
       "/*    background: #fff; /* white background for content */\n",
       "    background: blue;\n",
       "    width: 100%;\n",
       "    margin: auto;\n",
       "    padding-left: 1em;\n",
       "    padding-right: 1em;\n",
       "}\n",
       "\n",
       "#notebook li { /* More space between bullet points */\n",
       "    margin-top:0.4em;\n",
       "}\n",
       "\n",
       "/* change background color of running cells */\n",
       "div.cell.code_cell.running {\n",
       "/*    background-color: rgba(164,188,194,.75); */\n",
       "    background-color: green;\n",
       "    border-width: 8px\n",
       "    border-style: solid\n",
       "    border-color: #111;\n",
       "}\n",
       "\n",
       "/* Put a solid color box around each cell and its output, visually linking them together */\n",
       "div.cell.code_cell {\n",
       "    background-color: rgba(164,188,194,.25); /* Continuum L Gray with alpha 0.25 */\n",
       "    border-radius: 10px; /* rounded borders */\n",
       "    padding: 1em;\n",
       "    margin-top: 1em;\n",
       "}\n",
       "\n",
       "div.text_cell_render{\n",
       "\tfont-family: Georgia, Times, 'Times New Roman', serif;\n",
       "    line-height: 110%;\n",
       "    font-size: 105%;\n",
       "    width: 95%;\n",
       "    margin-left: auto;\n",
       "    margin-right: auto;\n",
       "}\n",
       "\n",
       "\n",
       "/* Formatting for header cells */\n",
       ".text_cell_render h1 {\n",
       "\tfont-family: Arial, 'Helvetica Neue', Helvetica, sans-serif;\n",
       "    font-weight: 400;\n",
       "    font-size: 30pt;\n",
       "    line-height: 100%;\n",
       "    color: rgb(37,55,70); /* Continuum Blue*/\n",
       "    margin-bottom: 0.1em;\n",
       "    margin-top: 0.1em;\n",
       "    display: block;\n",
       "}\n",
       ".text_cell_render h2 {\n",
       "\tfont-family: Arial, 'Helvetica Neue', Helvetica, sans-serif;\n",
       "    font-weight: 700;\n",
       "    font-size: 22pt;\n",
       "    line-height: 100%;\n",
       "    color: rgb(37,55,70);\n",
       "    margin-bottom: 0.1em;\n",
       "    margin-top: 0.1em;\n",
       "    display: block;\n",
       "}\n",
       "\n",
       ".text_cell_render h3 {\n",
       "\tfont-family: Arial, 'Helvetica Neue', Helvetica, sans-serif;\n",
       "    margin-top:12px;\n",
       "    margin-bottom: 3px;\n",
       "    font-style: italic;\n",
       "    color: rgb(37, 55, 70);\n",
       "}\n",
       "\n",
       ".text_cell_render h4 {\n",
       "\tfont-family: Arial, 'Helvetica Neue', Helvetica, sans-serif;\n",
       "}\n",
       "\n",
       ".text_cell_render h5 {\n",
       "\tfont-family: Arial, 'Helvetica Neue', Helvetica, sans-serif;\n",
       "    font-weight: 300;\n",
       "    font-size: 14pt;\n",
       "    font-style: italic;\n",
       "    margin-bottom: .1em;\n",
       "    margin-top: 0.1em;\n",
       "    display: block;\n",
       "}\n",
       "\n",
       ".text_cell_render h6 {\n",
       "\tfont-family: Arial, 'Helvetica Neue', Helvetica, sans-serif;\n",
       "    font-weight: 300;\n",
       "    font-size: 10pt;\n",
       "    margin-bottom: 1px;\n",
       "    margin-top: 1px;\n",
       "}\n",
       "\n",
       ".CodeMirror{\n",
       "        font-family: \"PT Mono\", fixed;\n",
       "        font-size: 100%;\n",
       "}\n",
       "\n",
       "</style>\n"
      ],
      "text/plain": [
       "<IPython.core.display.HTML object>"
      ]
     },
     "execution_count": 3,
     "metadata": {},
     "output_type": "execute_result"
    }
   ],
   "source": [
    "continuum_style.style()"
   ]
  },
  {
   "cell_type": "markdown",
   "metadata": {},
   "source": [
    "### This is to install customize toolbars"
   ]
  },
  {
   "cell_type": "markdown",
   "metadata": {},
   "source": [
    "Detail explained [here](http://people.duke.edu/~ccc14/sta-663-2016/Customizing_Jupyter.html)"
   ]
  },
  {
   "cell_type": "code",
   "execution_count": 3,
   "metadata": {
    "collapsed": true
   },
   "outputs": [],
   "source": [
    "!mkdir ~/.jupyter/custom"
   ]
  },
  {
   "cell_type": "code",
   "execution_count": 1,
   "metadata": {
    "collapsed": false,
    "scrolled": true
   },
   "outputs": [
    {
     "name": "stdout",
     "output_type": "stream",
     "text": [
      "downloading https://bitbucket.org/ipre/calico/downloads/calico-spell-check-1.0.zip to /var/folders/t8/307ghqxx5djb28nl56mkmx7j90c0xy/T/tmpChEbfd/calico-spell-check-1.0.zip\n",
      "extracting /var/folders/t8/307ghqxx5djb28nl56mkmx7j90c0xy/T/tmpChEbfd/calico-spell-check-1.0.zip to /usr/local/share/jupyter/nbextensions\n",
      "downloading https://bitbucket.org/ipre/calico/downloads/calico-document-tools-1.0.zip to /var/folders/t8/307ghqxx5djb28nl56mkmx7j90c0xy/T/tmpNqJ7Ay/calico-document-tools-1.0.zip\n",
      "extracting /var/folders/t8/307ghqxx5djb28nl56mkmx7j90c0xy/T/tmpNqJ7Ay/calico-document-tools-1.0.zip to /usr/local/share/jupyter/nbextensions\n",
      "downloading https://bitbucket.org/ipre/calico/downloads/calico-cell-tools-1.0.zip to /var/folders/t8/307ghqxx5djb28nl56mkmx7j90c0xy/T/tmpTfJzW9/calico-cell-tools-1.0.zip\n",
      "extracting /var/folders/t8/307ghqxx5djb28nl56mkmx7j90c0xy/T/tmpTfJzW9/calico-cell-tools-1.0.zip to /usr/local/share/jupyter/nbextensions\n"
     ]
    },
    {
     "name": "stderr",
     "output_type": "stream",
     "text": [
      "[TerminalIPythonApp] WARNING | Subcommand `ipython install-nbextension` is deprecated and will be removed in future versions.\n",
      "[TerminalIPythonApp] WARNING | You likely want to use `jupyter install-nbextension`... continue in 5 sec. Press Ctrl-C to quit now.\n",
      "[TerminalIPythonApp] WARNING | Subcommand `ipython install-nbextension` is deprecated and will be removed in future versions.\n",
      "[TerminalIPythonApp] WARNING | You likely want to use `jupyter install-nbextension`... continue in 5 sec. Press Ctrl-C to quit now.\n",
      "[TerminalIPythonApp] WARNING | Subcommand `ipython install-nbextension` is deprecated and will be removed in future versions.\n",
      "[TerminalIPythonApp] WARNING | You likely want to use `jupyter install-nbextension`... continue in 5 sec. Press Ctrl-C to quit now.\n"
     ]
    }
   ],
   "source": [
    "%%bash\n",
    "\n",
    "ipython install-nbextension https://bitbucket.org/ipre/calico/downloads/calico-spell-check-1.0.zip\n",
    "ipython install-nbextension https://bitbucket.org/ipre/calico/downloads/calico-document-tools-1.0.zip\n",
    "ipython install-nbextension https://bitbucket.org/ipre/calico/downloads/calico-cell-tools-1.0.zip"
   ]
  },
  {
   "cell_type": "code",
   "execution_count": 4,
   "metadata": {
    "collapsed": false
   },
   "outputs": [
    {
     "name": "stdout",
     "output_type": "stream",
     "text": [
      "Writing /Users/j35/.jupyter/custom/custom.js\n"
     ]
    }
   ],
   "source": [
    "%%file ~/.jupyter/custom/custom.js\n",
    "\n",
    "require(['base/js/utils'],\n",
    "        function(utils) {\n",
    "            utils.load_extensions('calico-spell-check',\n",
    "                                  'calico-document-tools',\n",
    "                                  'calico-cell-tools');\n",
    "        });"
   ]
  },
  {
   "cell_type": "markdown",
   "metadata": {},
   "source": [
    "Source code for RISE is [here](https://github.com/damianavila/RISE)\n"
   ]
  },
  {
   "cell_type": "code",
   "execution_count": 1,
   "metadata": {
    "collapsed": false
   },
   "outputs": [
    {
     "name": "stdout",
     "output_type": "stream",
     "text": [
      "Cloning into 'RISE'...\n",
      "Checking connectivity... done\n",
      "copying /Users/j35/git/notebooks/ipython_notebook_101/customizing/RISE/livereveal/main.css -> /Users/j35/Library/Jupyter/nbextensions/livereveal/main.css\n",
      "copying /Users/j35/git/notebooks/ipython_notebook_101/customizing/RISE/livereveal/main.js -> /Users/j35/Library/Jupyter/nbextensions/livereveal/main.js\n",
      "copying /Users/j35/git/notebooks/ipython_notebook_101/customizing/RISE/livereveal/main.orig.css -> /Users/j35/Library/Jupyter/nbextensions/livereveal/main.orig.css\n",
      "copying /Users/j35/git/notebooks/ipython_notebook_101/customizing/RISE/livereveal/reset_reveal.css -> /Users/j35/Library/Jupyter/nbextensions/livereveal/reset_reveal.css\n",
      "copying /Users/j35/git/notebooks/ipython_notebook_101/customizing/RISE/livereveal/reveal.js/Gruntfile.js -> /Users/j35/Library/Jupyter/nbextensions/livereveal/reveal.js/Gruntfile.js\n",
      "copying /Users/j35/git/notebooks/ipython_notebook_101/customizing/RISE/livereveal/reveal.js/index.html -> /Users/j35/Library/Jupyter/nbextensions/livereveal/reveal.js/index.html\n",
      "copying /Users/j35/git/notebooks/ipython_notebook_101/customizing/RISE/livereveal/reveal.js/LICENSE -> /Users/j35/Library/Jupyter/nbextensions/livereveal/reveal.js/LICENSE\n",
      "copying /Users/j35/git/notebooks/ipython_notebook_101/customizing/RISE/livereveal/reveal.js/package.json -> /Users/j35/Library/Jupyter/nbextensions/livereveal/reveal.js/package.json\n",
      "copying /Users/j35/git/notebooks/ipython_notebook_101/customizing/RISE/livereveal/reveal.js/README.md -> /Users/j35/Library/Jupyter/nbextensions/livereveal/reveal.js/README.md\n",
      "copying /Users/j35/git/notebooks/ipython_notebook_101/customizing/RISE/livereveal/reveal.js/css/reveal.css -> /Users/j35/Library/Jupyter/nbextensions/livereveal/reveal.js/css/reveal.css\n",
      "copying /Users/j35/git/notebooks/ipython_notebook_101/customizing/RISE/livereveal/reveal.js/css/reveal.min.css -> /Users/j35/Library/Jupyter/nbextensions/livereveal/reveal.js/css/reveal.min.css\n",
      "copying /Users/j35/git/notebooks/ipython_notebook_101/customizing/RISE/livereveal/reveal.js/css/print/paper.css -> /Users/j35/Library/Jupyter/nbextensions/livereveal/reveal.js/css/print/paper.css\n",
      "copying /Users/j35/git/notebooks/ipython_notebook_101/customizing/RISE/livereveal/reveal.js/css/print/pdf.css -> /Users/j35/Library/Jupyter/nbextensions/livereveal/reveal.js/css/print/pdf.css\n",
      "copying /Users/j35/git/notebooks/ipython_notebook_101/customizing/RISE/livereveal/reveal.js/css/theme/beige.css -> /Users/j35/Library/Jupyter/nbextensions/livereveal/reveal.js/css/theme/beige.css\n",
      "copying /Users/j35/git/notebooks/ipython_notebook_101/customizing/RISE/livereveal/reveal.js/css/theme/blood.css -> /Users/j35/Library/Jupyter/nbextensions/livereveal/reveal.js/css/theme/blood.css\n",
      "copying /Users/j35/git/notebooks/ipython_notebook_101/customizing/RISE/livereveal/reveal.js/css/theme/default.css -> /Users/j35/Library/Jupyter/nbextensions/livereveal/reveal.js/css/theme/default.css\n",
      "copying /Users/j35/git/notebooks/ipython_notebook_101/customizing/RISE/livereveal/reveal.js/css/theme/moon.css -> /Users/j35/Library/Jupyter/nbextensions/livereveal/reveal.js/css/theme/moon.css\n",
      "copying /Users/j35/git/notebooks/ipython_notebook_101/customizing/RISE/livereveal/reveal.js/css/theme/night.css -> /Users/j35/Library/Jupyter/nbextensions/livereveal/reveal.js/css/theme/night.css\n",
      "copying /Users/j35/git/notebooks/ipython_notebook_101/customizing/RISE/livereveal/reveal.js/css/theme/README.md -> /Users/j35/Library/Jupyter/nbextensions/livereveal/reveal.js/css/theme/README.md\n",
      "copying /Users/j35/git/notebooks/ipython_notebook_101/customizing/RISE/livereveal/reveal.js/css/theme/serif.css -> /Users/j35/Library/Jupyter/nbextensions/livereveal/reveal.js/css/theme/serif.css\n",
      "copying /Users/j35/git/notebooks/ipython_notebook_101/customizing/RISE/livereveal/reveal.js/css/theme/simple.css -> /Users/j35/Library/Jupyter/nbextensions/livereveal/reveal.js/css/theme/simple.css\n",
      "copying /Users/j35/git/notebooks/ipython_notebook_101/customizing/RISE/livereveal/reveal.js/css/theme/sky.css -> /Users/j35/Library/Jupyter/nbextensions/livereveal/reveal.js/css/theme/sky.css\n",
      "copying /Users/j35/git/notebooks/ipython_notebook_101/customizing/RISE/livereveal/reveal.js/css/theme/solarized.css -> /Users/j35/Library/Jupyter/nbextensions/livereveal/reveal.js/css/theme/solarized.css\n",
      "copying /Users/j35/git/notebooks/ipython_notebook_101/customizing/RISE/livereveal/reveal.js/css/theme/source/beige.scss -> /Users/j35/Library/Jupyter/nbextensions/livereveal/reveal.js/css/theme/source/beige.scss\n",
      "copying /Users/j35/git/notebooks/ipython_notebook_101/customizing/RISE/livereveal/reveal.js/css/theme/source/blood.scss -> /Users/j35/Library/Jupyter/nbextensions/livereveal/reveal.js/css/theme/source/blood.scss\n",
      "copying /Users/j35/git/notebooks/ipython_notebook_101/customizing/RISE/livereveal/reveal.js/css/theme/source/default.scss -> /Users/j35/Library/Jupyter/nbextensions/livereveal/reveal.js/css/theme/source/default.scss\n",
      "copying /Users/j35/git/notebooks/ipython_notebook_101/customizing/RISE/livereveal/reveal.js/css/theme/source/moon.scss -> /Users/j35/Library/Jupyter/nbextensions/livereveal/reveal.js/css/theme/source/moon.scss\n",
      "copying /Users/j35/git/notebooks/ipython_notebook_101/customizing/RISE/livereveal/reveal.js/css/theme/source/night.scss -> /Users/j35/Library/Jupyter/nbextensions/livereveal/reveal.js/css/theme/source/night.scss\n",
      "copying /Users/j35/git/notebooks/ipython_notebook_101/customizing/RISE/livereveal/reveal.js/css/theme/source/serif.scss -> /Users/j35/Library/Jupyter/nbextensions/livereveal/reveal.js/css/theme/source/serif.scss\n",
      "copying /Users/j35/git/notebooks/ipython_notebook_101/customizing/RISE/livereveal/reveal.js/css/theme/source/simple.scss -> /Users/j35/Library/Jupyter/nbextensions/livereveal/reveal.js/css/theme/source/simple.scss\n",
      "copying /Users/j35/git/notebooks/ipython_notebook_101/customizing/RISE/livereveal/reveal.js/css/theme/source/sky.scss -> /Users/j35/Library/Jupyter/nbextensions/livereveal/reveal.js/css/theme/source/sky.scss\n",
      "copying /Users/j35/git/notebooks/ipython_notebook_101/customizing/RISE/livereveal/reveal.js/css/theme/source/solarized.scss -> /Users/j35/Library/Jupyter/nbextensions/livereveal/reveal.js/css/theme/source/solarized.scss\n",
      "copying /Users/j35/git/notebooks/ipython_notebook_101/customizing/RISE/livereveal/reveal.js/css/theme/template/mixins.scss -> /Users/j35/Library/Jupyter/nbextensions/livereveal/reveal.js/css/theme/template/mixins.scss\n",
      "copying /Users/j35/git/notebooks/ipython_notebook_101/customizing/RISE/livereveal/reveal.js/css/theme/template/settings.scss -> /Users/j35/Library/Jupyter/nbextensions/livereveal/reveal.js/css/theme/template/settings.scss\n",
      "copying /Users/j35/git/notebooks/ipython_notebook_101/customizing/RISE/livereveal/reveal.js/css/theme/template/theme.scss -> /Users/j35/Library/Jupyter/nbextensions/livereveal/reveal.js/css/theme/template/theme.scss\n",
      "copying /Users/j35/git/notebooks/ipython_notebook_101/customizing/RISE/livereveal/reveal.js/js/reveal.js -> /Users/j35/Library/Jupyter/nbextensions/livereveal/reveal.js/js/reveal.js\n",
      "copying /Users/j35/git/notebooks/ipython_notebook_101/customizing/RISE/livereveal/reveal.js/js/reveal.min.js -> /Users/j35/Library/Jupyter/nbextensions/livereveal/reveal.js/js/reveal.min.js\n",
      "copying /Users/j35/git/notebooks/ipython_notebook_101/customizing/RISE/livereveal/reveal.js/lib/css/zenburn.css -> /Users/j35/Library/Jupyter/nbextensions/livereveal/reveal.js/lib/css/zenburn.css\n",
      "copying /Users/j35/git/notebooks/ipython_notebook_101/customizing/RISE/livereveal/reveal.js/lib/font/league_gothic-webfont.eot -> /Users/j35/Library/Jupyter/nbextensions/livereveal/reveal.js/lib/font/league_gothic-webfont.eot\n",
      "copying /Users/j35/git/notebooks/ipython_notebook_101/customizing/RISE/livereveal/reveal.js/lib/font/league_gothic-webfont.svg -> /Users/j35/Library/Jupyter/nbextensions/livereveal/reveal.js/lib/font/league_gothic-webfont.svg\n",
      "copying /Users/j35/git/notebooks/ipython_notebook_101/customizing/RISE/livereveal/reveal.js/lib/font/league_gothic-webfont.ttf -> /Users/j35/Library/Jupyter/nbextensions/livereveal/reveal.js/lib/font/league_gothic-webfont.ttf\n",
      "copying /Users/j35/git/notebooks/ipython_notebook_101/customizing/RISE/livereveal/reveal.js/lib/font/league_gothic-webfont.woff -> /Users/j35/Library/Jupyter/nbextensions/livereveal/reveal.js/lib/font/league_gothic-webfont.woff\n",
      "copying /Users/j35/git/notebooks/ipython_notebook_101/customizing/RISE/livereveal/reveal.js/lib/font/league_gothic_license -> /Users/j35/Library/Jupyter/nbextensions/livereveal/reveal.js/lib/font/league_gothic_license\n",
      "copying /Users/j35/git/notebooks/ipython_notebook_101/customizing/RISE/livereveal/reveal.js/lib/js/classList.js -> /Users/j35/Library/Jupyter/nbextensions/livereveal/reveal.js/lib/js/classList.js\n",
      "copying /Users/j35/git/notebooks/ipython_notebook_101/customizing/RISE/livereveal/reveal.js/lib/js/head.min.js -> /Users/j35/Library/Jupyter/nbextensions/livereveal/reveal.js/lib/js/head.min.js\n",
      "copying /Users/j35/git/notebooks/ipython_notebook_101/customizing/RISE/livereveal/reveal.js/lib/js/html5shiv.js -> /Users/j35/Library/Jupyter/nbextensions/livereveal/reveal.js/lib/js/html5shiv.js\n",
      "copying /Users/j35/git/notebooks/ipython_notebook_101/customizing/RISE/livereveal/reveal.js/plugin/highlight/highlight.js -> /Users/j35/Library/Jupyter/nbextensions/livereveal/reveal.js/plugin/highlight/highlight.js\n",
      "copying /Users/j35/git/notebooks/ipython_notebook_101/customizing/RISE/livereveal/reveal.js/plugin/leap/leap.js -> /Users/j35/Library/Jupyter/nbextensions/livereveal/reveal.js/plugin/leap/leap.js\n",
      "copying /Users/j35/git/notebooks/ipython_notebook_101/customizing/RISE/livereveal/reveal.js/plugin/markdown/example.html -> /Users/j35/Library/Jupyter/nbextensions/livereveal/reveal.js/plugin/markdown/example.html\n",
      "copying /Users/j35/git/notebooks/ipython_notebook_101/customizing/RISE/livereveal/reveal.js/plugin/markdown/example.md -> /Users/j35/Library/Jupyter/nbextensions/livereveal/reveal.js/plugin/markdown/example.md\n",
      "copying /Users/j35/git/notebooks/ipython_notebook_101/customizing/RISE/livereveal/reveal.js/plugin/markdown/markdown.js -> /Users/j35/Library/Jupyter/nbextensions/livereveal/reveal.js/plugin/markdown/markdown.js\n",
      "copying /Users/j35/git/notebooks/ipython_notebook_101/customizing/RISE/livereveal/reveal.js/plugin/markdown/marked.js -> /Users/j35/Library/Jupyter/nbextensions/livereveal/reveal.js/plugin/markdown/marked.js\n",
      "copying /Users/j35/git/notebooks/ipython_notebook_101/customizing/RISE/livereveal/reveal.js/plugin/math/math.js -> /Users/j35/Library/Jupyter/nbextensions/livereveal/reveal.js/plugin/math/math.js\n",
      "copying /Users/j35/git/notebooks/ipython_notebook_101/customizing/RISE/livereveal/reveal.js/plugin/multiplex/client.js -> /Users/j35/Library/Jupyter/nbextensions/livereveal/reveal.js/plugin/multiplex/client.js\n",
      "copying /Users/j35/git/notebooks/ipython_notebook_101/customizing/RISE/livereveal/reveal.js/plugin/multiplex/index.js -> /Users/j35/Library/Jupyter/nbextensions/livereveal/reveal.js/plugin/multiplex/index.js\n",
      "copying /Users/j35/git/notebooks/ipython_notebook_101/customizing/RISE/livereveal/reveal.js/plugin/multiplex/master.js -> /Users/j35/Library/Jupyter/nbextensions/livereveal/reveal.js/plugin/multiplex/master.js\n",
      "copying /Users/j35/git/notebooks/ipython_notebook_101/customizing/RISE/livereveal/reveal.js/plugin/notes/notes.html -> /Users/j35/Library/Jupyter/nbextensions/livereveal/reveal.js/plugin/notes/notes.html\n",
      "copying /Users/j35/git/notebooks/ipython_notebook_101/customizing/RISE/livereveal/reveal.js/plugin/notes/notes.js -> /Users/j35/Library/Jupyter/nbextensions/livereveal/reveal.js/plugin/notes/notes.js\n",
      "copying /Users/j35/git/notebooks/ipython_notebook_101/customizing/RISE/livereveal/reveal.js/plugin/notes-server/client.js -> /Users/j35/Library/Jupyter/nbextensions/livereveal/reveal.js/plugin/notes-server/client.js\n",
      "copying /Users/j35/git/notebooks/ipython_notebook_101/customizing/RISE/livereveal/reveal.js/plugin/notes-server/index.js -> /Users/j35/Library/Jupyter/nbextensions/livereveal/reveal.js/plugin/notes-server/index.js\n",
      "copying /Users/j35/git/notebooks/ipython_notebook_101/customizing/RISE/livereveal/reveal.js/plugin/notes-server/notes.html -> /Users/j35/Library/Jupyter/nbextensions/livereveal/reveal.js/plugin/notes-server/notes.html\n",
      "copying /Users/j35/git/notebooks/ipython_notebook_101/customizing/RISE/livereveal/reveal.js/plugin/postmessage/example.html -> /Users/j35/Library/Jupyter/nbextensions/livereveal/reveal.js/plugin/postmessage/example.html\n",
      "copying /Users/j35/git/notebooks/ipython_notebook_101/customizing/RISE/livereveal/reveal.js/plugin/postmessage/postmessage.js -> /Users/j35/Library/Jupyter/nbextensions/livereveal/reveal.js/plugin/postmessage/postmessage.js\n",
      "copying /Users/j35/git/notebooks/ipython_notebook_101/customizing/RISE/livereveal/reveal.js/plugin/print-pdf/print-pdf.js -> /Users/j35/Library/Jupyter/nbextensions/livereveal/reveal.js/plugin/print-pdf/print-pdf.js\n",
      "copying /Users/j35/git/notebooks/ipython_notebook_101/customizing/RISE/livereveal/reveal.js/plugin/remotes/remotes.js -> /Users/j35/Library/Jupyter/nbextensions/livereveal/reveal.js/plugin/remotes/remotes.js\n",
      "copying /Users/j35/git/notebooks/ipython_notebook_101/customizing/RISE/livereveal/reveal.js/plugin/search/search.js -> /Users/j35/Library/Jupyter/nbextensions/livereveal/reveal.js/plugin/search/search.js\n",
      "copying /Users/j35/git/notebooks/ipython_notebook_101/customizing/RISE/livereveal/reveal.js/plugin/zoom-js/zoom.js -> /Users/j35/Library/Jupyter/nbextensions/livereveal/reveal.js/plugin/zoom-js/zoom.js\n",
      "copying /Users/j35/git/notebooks/ipython_notebook_101/customizing/RISE/livereveal/reveal.js/test/qunit-1.12.0.css -> /Users/j35/Library/Jupyter/nbextensions/livereveal/reveal.js/test/qunit-1.12.0.css\n",
      "copying /Users/j35/git/notebooks/ipython_notebook_101/customizing/RISE/livereveal/reveal.js/test/qunit-1.12.0.js -> /Users/j35/Library/Jupyter/nbextensions/livereveal/reveal.js/test/qunit-1.12.0.js\n",
      "copying /Users/j35/git/notebooks/ipython_notebook_101/customizing/RISE/livereveal/reveal.js/test/test-markdown-element-attributes.html -> /Users/j35/Library/Jupyter/nbextensions/livereveal/reveal.js/test/test-markdown-element-attributes.html\n",
      "copying /Users/j35/git/notebooks/ipython_notebook_101/customizing/RISE/livereveal/reveal.js/test/test-markdown-element-attributes.js -> /Users/j35/Library/Jupyter/nbextensions/livereveal/reveal.js/test/test-markdown-element-attributes.js\n",
      "copying /Users/j35/git/notebooks/ipython_notebook_101/customizing/RISE/livereveal/reveal.js/test/test-markdown-slide-attributes.html -> /Users/j35/Library/Jupyter/nbextensions/livereveal/reveal.js/test/test-markdown-slide-attributes.html\n",
      "copying /Users/j35/git/notebooks/ipython_notebook_101/customizing/RISE/livereveal/reveal.js/test/test-markdown-slide-attributes.js -> /Users/j35/Library/Jupyter/nbextensions/livereveal/reveal.js/test/test-markdown-slide-attributes.js\n",
      "copying /Users/j35/git/notebooks/ipython_notebook_101/customizing/RISE/livereveal/reveal.js/test/test-markdown.html -> /Users/j35/Library/Jupyter/nbextensions/livereveal/reveal.js/test/test-markdown.html\n",
      "copying /Users/j35/git/notebooks/ipython_notebook_101/customizing/RISE/livereveal/reveal.js/test/test-markdown.js -> /Users/j35/Library/Jupyter/nbextensions/livereveal/reveal.js/test/test-markdown.js\n",
      "copying /Users/j35/git/notebooks/ipython_notebook_101/customizing/RISE/livereveal/reveal.js/test/test.html -> /Users/j35/Library/Jupyter/nbextensions/livereveal/reveal.js/test/test.html\n",
      "copying /Users/j35/git/notebooks/ipython_notebook_101/customizing/RISE/livereveal/reveal.js/test/test.js -> /Users/j35/Library/Jupyter/nbextensions/livereveal/reveal.js/test/test.js\n",
      "copying /Users/j35/git/notebooks/ipython_notebook_101/customizing/RISE/livereveal/reveal.js/test/examples/barebones.html -> /Users/j35/Library/Jupyter/nbextensions/livereveal/reveal.js/test/examples/barebones.html\n",
      "copying /Users/j35/git/notebooks/ipython_notebook_101/customizing/RISE/livereveal/reveal.js/test/examples/embedded-media.html -> /Users/j35/Library/Jupyter/nbextensions/livereveal/reveal.js/test/examples/embedded-media.html\n",
      "copying /Users/j35/git/notebooks/ipython_notebook_101/customizing/RISE/livereveal/reveal.js/test/examples/math.html -> /Users/j35/Library/Jupyter/nbextensions/livereveal/reveal.js/test/examples/math.html\n",
      "copying /Users/j35/git/notebooks/ipython_notebook_101/customizing/RISE/livereveal/reveal.js/test/examples/slide-backgrounds.html -> /Users/j35/Library/Jupyter/nbextensions/livereveal/reveal.js/test/examples/slide-backgrounds.html\n",
      "copying /Users/j35/git/notebooks/ipython_notebook_101/customizing/RISE/livereveal/reveal.js/test/examples/assets/image1.png -> /Users/j35/Library/Jupyter/nbextensions/livereveal/reveal.js/test/examples/assets/image1.png\n",
      "copying /Users/j35/git/notebooks/ipython_notebook_101/customizing/RISE/livereveal/reveal.js/test/examples/assets/image2.png -> /Users/j35/Library/Jupyter/nbextensions/livereveal/reveal.js/test/examples/assets/image2.png\n"
     ]
    }
   ],
   "source": [
    "%%bash\n",
    "\n",
    "git clone https://github.com/damianavila/RISE.git\n",
    "cd RISE\n",
    "python setup.py install"
   ]
  },
  {
   "cell_type": "code",
   "execution_count": null,
   "metadata": {
    "collapsed": true
   },
   "outputs": [],
   "source": []
  }
 ],
 "metadata": {
  "kernelspec": {
   "display_name": "Python 2",
   "language": "python",
   "name": "python2"
  },
  "language_info": {
   "codemirror_mode": {
    "name": "ipython",
    "version": 2
   },
   "file_extension": ".py",
   "mimetype": "text/x-python",
   "name": "python",
   "nbconvert_exporter": "python",
   "pygments_lexer": "ipython2",
   "version": "2.7.11"
  }
 },
 "nbformat": 4,
 "nbformat_minor": 0
}
