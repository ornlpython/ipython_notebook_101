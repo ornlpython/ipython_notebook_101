{
 "cells": [
  {
   "cell_type": "code",
   "execution_count": 2,
   "metadata": {
    "collapsed": true
   },
   "outputs": [],
   "source": [
    "# logo image here"
   ]
  },
  {
   "cell_type": "markdown",
   "metadata": {},
   "source": [
    "## What this repo is about"
   ]
  },
  {
   "cell_type": "code",
   "execution_count": 3,
   "metadata": {
    "collapsed": true
   },
   "outputs": [],
   "source": [
    "# description of goal of this repo"
   ]
  },
  {
   "cell_type": "markdown",
   "metadata": {},
   "source": [
    "## Contents"
   ]
  },
  {
   "cell_type": "markdown",
   "metadata": {},
   "source": [
    "* [Working with Images](working_with_images/index.ipynb) Loading/saving images\n",
    "* [Widgets](widgets/index.ipynb) interactive widgets\n",
    "* [Magic Commands](magicCommands/index.ipynb) Magic Commands\n",
    "* [Tools](tools/index.ipynb) Various useful tools"
   ]
  },
  {
   "cell_type": "markdown",
   "metadata": {
    "collapsed": true
   },
   "source": [
    "### Nice tutorial links "
   ]
  },
  {
   "cell_type": "markdown",
   "metadata": {},
   "source": [
    "* [how to make nice CLI program](https://stormpath.com/blog/building-simple-cli-interfaces-in-python/)\n",
    "* [Simple ruls for building great python packages](http://axialcorps.com/2013/08/29/5-simple-rules-for-building-great-python-packages/)\n",
    "* [Debugging your python code using pdb](http://howchoo.com/g/zgi2y2iwyze/debugging-your-python-code)\n",
    "* [various tutorials](http://www.bogotobogo.com/python/pytut.php)"
   ]
  },
  {
   "cell_type": "code",
   "execution_count": null,
   "metadata": {
    "collapsed": true
   },
   "outputs": [],
   "source": []
  }
 ],
 "metadata": {
  "kernelspec": {
   "display_name": "Python 3",
   "language": "python",
   "name": "python3"
  },
  "language_info": {
   "codemirror_mode": {
    "name": "ipython",
    "version": 3
   },
   "file_extension": ".py",
   "mimetype": "text/x-python",
   "name": "python",
   "nbconvert_exporter": "python",
   "pygments_lexer": "ipython3",
   "version": "3.4.4"
  }
 },
 "nbformat": 4,
 "nbformat_minor": 0
}
