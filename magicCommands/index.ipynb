{
 "cells": [
  {
   "cell_type": "markdown",
   "metadata": {
    "collapsed": true
   },
   "source": [
    "### Magics "
   ]
  },
  {
   "cell_type": "code",
   "execution_count": 1,
   "metadata": {
    "collapsed": false
   },
   "outputs": [
    {
     "data": {
      "application/json": {
       "cell": {
        "!": "OSMagics",
        "HTML": "Other",
        "SVG": "Other",
        "bash": "Other",
        "capture": "ExecutionMagics",
        "debug": "ExecutionMagics",
        "file": "Other",
        "html": "DisplayMagics",
        "javascript": "DisplayMagics",
        "latex": "DisplayMagics",
        "perl": "Other",
        "prun": "ExecutionMagics",
        "pypy": "Other",
        "python": "Other",
        "python2": "Other",
        "python3": "Other",
        "ruby": "Other",
        "script": "ScriptMagics",
        "sh": "Other",
        "svg": "DisplayMagics",
        "sx": "OSMagics",
        "system": "OSMagics",
        "time": "ExecutionMagics",
        "timeit": "ExecutionMagics",
        "writefile": "OSMagics"
       },
       "line": {
        "alias": "OSMagics",
        "alias_magic": "BasicMagics",
        "autocall": "AutoMagics",
        "automagic": "AutoMagics",
        "autosave": "KernelMagics",
        "bookmark": "OSMagics",
        "cat": "Other",
        "cd": "OSMagics",
        "clear": "KernelMagics",
        "colors": "BasicMagics",
        "config": "ConfigMagics",
        "connect_info": "KernelMagics",
        "cp": "Other",
        "debug": "ExecutionMagics",
        "dhist": "OSMagics",
        "dirs": "OSMagics",
        "doctest_mode": "BasicMagics",
        "ed": "Other",
        "edit": "KernelMagics",
        "env": "OSMagics",
        "gui": "BasicMagics",
        "hist": "Other",
        "history": "HistoryMagics",
        "install_default_config": "DeprecatedMagics",
        "install_ext": "ExtensionMagics",
        "install_profiles": "DeprecatedMagics",
        "killbgscripts": "ScriptMagics",
        "ldir": "Other",
        "less": "KernelMagics",
        "lf": "Other",
        "lk": "Other",
        "ll": "Other",
        "load": "CodeMagics",
        "load_ext": "ExtensionMagics",
        "loadpy": "CodeMagics",
        "logoff": "LoggingMagics",
        "logon": "LoggingMagics",
        "logstart": "LoggingMagics",
        "logstate": "LoggingMagics",
        "logstop": "LoggingMagics",
        "ls": "Other",
        "lsmagic": "BasicMagics",
        "lx": "Other",
        "macro": "ExecutionMagics",
        "magic": "BasicMagics",
        "man": "KernelMagics",
        "matplotlib": "PylabMagics",
        "mkdir": "Other",
        "more": "KernelMagics",
        "mv": "Other",
        "notebook": "BasicMagics",
        "page": "BasicMagics",
        "pastebin": "CodeMagics",
        "pdb": "ExecutionMagics",
        "pdef": "NamespaceMagics",
        "pdoc": "NamespaceMagics",
        "pfile": "NamespaceMagics",
        "pinfo": "NamespaceMagics",
        "pinfo2": "NamespaceMagics",
        "popd": "OSMagics",
        "pprint": "BasicMagics",
        "precision": "BasicMagics",
        "profile": "BasicMagics",
        "prun": "ExecutionMagics",
        "psearch": "NamespaceMagics",
        "psource": "NamespaceMagics",
        "pushd": "OSMagics",
        "pwd": "OSMagics",
        "pycat": "OSMagics",
        "pylab": "PylabMagics",
        "qtconsole": "KernelMagics",
        "quickref": "BasicMagics",
        "recall": "HistoryMagics",
        "rehashx": "OSMagics",
        "reload_ext": "ExtensionMagics",
        "rep": "Other",
        "rerun": "HistoryMagics",
        "reset": "NamespaceMagics",
        "reset_selective": "NamespaceMagics",
        "rm": "Other",
        "rmdir": "Other",
        "run": "ExecutionMagics",
        "save": "CodeMagics",
        "sc": "OSMagics",
        "set_env": "OSMagics",
        "store": "StoreMagics",
        "sx": "OSMagics",
        "system": "OSMagics",
        "tb": "ExecutionMagics",
        "time": "ExecutionMagics",
        "timeit": "ExecutionMagics",
        "unalias": "OSMagics",
        "unload_ext": "ExtensionMagics",
        "who": "NamespaceMagics",
        "who_ls": "NamespaceMagics",
        "whos": "NamespaceMagics",
        "xdel": "NamespaceMagics",
        "xmode": "BasicMagics"
       }
      },
      "text/plain": [
       "Available line magics:\n",
       "%alias  %alias_magic  %autocall  %automagic  %autosave  %bookmark  %cat  %cd  %clear  %colors  %config  %connect_info  %cp  %debug  %dhist  %dirs  %doctest_mode  %ed  %edit  %env  %gui  %hist  %history  %install_default_config  %install_ext  %install_profiles  %killbgscripts  %ldir  %less  %lf  %lk  %ll  %load  %load_ext  %loadpy  %logoff  %logon  %logstart  %logstate  %logstop  %ls  %lsmagic  %lx  %macro  %magic  %man  %matplotlib  %mkdir  %more  %mv  %notebook  %page  %pastebin  %pdb  %pdef  %pdoc  %pfile  %pinfo  %pinfo2  %popd  %pprint  %precision  %profile  %prun  %psearch  %psource  %pushd  %pwd  %pycat  %pylab  %qtconsole  %quickref  %recall  %rehashx  %reload_ext  %rep  %rerun  %reset  %reset_selective  %rm  %rmdir  %run  %save  %sc  %set_env  %store  %sx  %system  %tb  %time  %timeit  %unalias  %unload_ext  %who  %who_ls  %whos  %xdel  %xmode\n",
       "\n",
       "Available cell magics:\n",
       "%%!  %%HTML  %%SVG  %%bash  %%capture  %%debug  %%file  %%html  %%javascript  %%latex  %%perl  %%prun  %%pypy  %%python  %%python2  %%python3  %%ruby  %%script  %%sh  %%svg  %%sx  %%system  %%time  %%timeit  %%writefile\n",
       "\n",
       "Automagic is ON, % prefix IS NOT needed for line magics."
      ]
     },
     "execution_count": 1,
     "metadata": {},
     "output_type": "execute_result"
    }
   ],
   "source": [
    "%lsmagic"
   ]
  },
  {
   "cell_type": "markdown",
   "metadata": {},
   "source": [
    "## A few examples"
   ]
  },
  {
   "cell_type": "markdown",
   "metadata": {},
   "source": [
    "#### 1. env"
   ]
  },
  {
   "cell_type": "code",
   "execution_count": 2,
   "metadata": {
    "collapsed": false
   },
   "outputs": [
    {
     "data": {
      "text/plain": [
       "{'Apple_PubSub_Socket_Render': '/private/tmp/com.apple.launchd.e04fHZm5vw/Render',\n",
       " 'CLICOLOR': '1',\n",
       " 'COLORFGBG': '7;0',\n",
       " 'DISPLAY': '/private/tmp/com.apple.launchd.liiJbsw4ki/org.macosforge.xquartz:0',\n",
       " 'GIT_PAGER': 'cat',\n",
       " 'HOME': '/Users/j35',\n",
       " 'ITERM_PROFILE': 'PSG',\n",
       " 'ITERM_SESSION_ID': 'w2t3p0',\n",
       " 'JPY_PARENT_PID': '8127',\n",
       " 'LANG': 'en_US.UTF-8',\n",
       " 'LOGNAME': 'j35',\n",
       " 'OLDPWD': '/Users/j35',\n",
       " 'PAGER': 'cat',\n",
       " 'PATH': '/Users/j35/anaconda/bin:/usr/local/bin:/opt/local/bin:/opt/local/sbin:/usr/local/bin:/usr/bin:/bin:/usr/sbin:/sbin:/opt/X11/bin:/usr/local/munki:/Applications/Qt/5.2.1/clang_64/bin/',\n",
       " 'PWD': '/Users/j35/git/notebooks',\n",
       " 'SHELL': '/bin/bash',\n",
       " 'SHLVL': '1',\n",
       " 'SSH_AUTH_SOCK': '/private/tmp/com.apple.launchd.zpaSW02C8z/Listeners',\n",
       " 'TERM': 'xterm-color',\n",
       " 'TERM_PROGRAM': 'iTerm.app',\n",
       " 'TMPDIR': '/var/folders/t8/307ghqxx5djb28nl56mkmx7j90c0xy/T/',\n",
       " 'USER': 'j35',\n",
       " 'XPC_FLAGS': '0x0',\n",
       " 'XPC_SERVICE_NAME': '0',\n",
       " '_': '/Users/j35/anaconda/bin/jupyter',\n",
       " '__CF_USER_TEXT_ENCODING': '0x520603BE:0x0:0x0'}"
      ]
     },
     "execution_count": 2,
     "metadata": {},
     "output_type": "execute_result"
    }
   ],
   "source": [
    "%env"
   ]
  },
  {
   "cell_type": "markdown",
   "metadata": {},
   "source": [
    "#### 2.  run any shell commands"
   ]
  },
  {
   "cell_type": "markdown",
   "metadata": {},
   "source": [
    "To run any shell commands, we can use\n",
    "> !"
   ]
  },
  {
   "cell_type": "markdown",
   "metadata": {},
   "source": [
    "example: \n",
    "\n",
    "> pip freeze\n",
    "\n",
    "Output installed packages in requirements format"
   ]
  },
  {
   "cell_type": "code",
   "execution_count": 6,
   "metadata": {
    "collapsed": false,
    "scrolled": false
   },
   "outputs": [
    {
     "name": "stdout",
     "output_type": "stream",
     "text": [
      "abstract-rendering==0.5.1\r\n",
      "alabaster==0.7.6\r\n",
      "appnope==0.1.0\r\n",
      "appscript==1.0.1\r\n",
      "argcomplete==0.8.9\r\n",
      "astropy==1.0.3\r\n",
      "Babel==2.1.1\r\n",
      "bcolz==0.9.0\r\n",
      "beautifulsoup4==4.3.2\r\n",
      "binstar==0.11.0\r\n",
      "bitarray==0.8.1\r\n",
      "blaze==0.8.0\r\n",
      "blz==0.6.2\r\n",
      "bokeh==0.9.0\r\n",
      "boto==2.38.0\r\n",
      "Bottleneck==1.0.0\r\n",
      "braggedge==0.1\r\n",
      "certifi==14.5.14\r\n",
      "cffi==1.1.0\r\n",
      "clyent==0.3.4\r\n",
      "colorama==0.3.3\r\n",
      "colormap==0.9.7\r\n",
      "conda==3.19.0\r\n",
      "conda-build==1.14.1\r\n",
      "conda-env==2.4.5\r\n",
      "configobj==5.0.6\r\n",
      "cryptography==0.9.1\r\n",
      "cycler==0.9.0\r\n",
      "Cython==0.22.1\r\n",
      "cytoolz==0.7.3\r\n",
      "datashape==0.4.5\r\n",
      "decorator==4.0.4\r\n",
      "docutils==0.12\r\n",
      "fastcache==1.0.2\r\n",
      "Flask==0.10.1\r\n",
      "greenlet==0.4.7\r\n",
      "h5py==2.5.0\r\n",
      "html5lib==0.999\r\n",
      "idna==2.0\r\n",
      "imreg-dft==1.0.5\r\n",
      "ipykernel==4.1.0\r\n",
      "ipython==4.0.0\r\n",
      "ipython-genutils==0.1.0\r\n",
      "ipywidgets==4.0.3\r\n",
      "itsdangerous==0.24\r\n",
      "jdcal==1.0\r\n",
      "jedi==0.8.1\r\n",
      "Jinja2==2.8\r\n",
      "joblib==0.8.4\r\n",
      "jsonschema==2.4.0\r\n",
      "jupyter==1.0.0\r\n",
      "jupyter-client==4.1.1\r\n",
      "jupyter-console==4.0.3\r\n",
      "jupyter-core==4.0.6\r\n",
      "llvmlite==0.5.0\r\n",
      "lxml==3.4.4\r\n",
      "MarkupSafe==0.23\r\n",
      "matplotlib==1.5.0\r\n",
      "mistune==0.7.1\r\n",
      "mock==1.0.1\r\n",
      "multipledispatch==0.4.7\r\n",
      "nbconvert==4.0.0\r\n",
      "nbformat==4.0.1\r\n",
      "networkx==1.10\r\n",
      "nltk==3.0.3\r\n",
      "nose==1.3.7\r\n",
      "notebook==4.0.6\r\n",
      "numba==0.19.1\r\n",
      "numexpr==2.4.3\r\n",
      "numpy==1.10.1\r\n",
      "odo==0.3.2\r\n",
      "openpyxl==1.8.5\r\n",
      "pandas==0.16.2\r\n",
      "path.py==0.0.0\r\n",
      "patsy==0.3.0\r\n",
      "pep8==1.6.2\r\n",
      "pexpect==3.3\r\n",
      "pickleshare==0.5\r\n",
      "Pillow==2.9.0\r\n",
      "pivottablejs==0.1.0\r\n",
      "ply==3.6\r\n",
      "psutil==2.2.1\r\n",
      "ptyprocess==0.4\r\n",
      "py==1.4.27\r\n",
      "pyasn1==0.1.7\r\n",
      "pycosat==0.6.1\r\n",
      "pycparser==2.14\r\n",
      "pycrypto==2.6.1\r\n",
      "pycurl==7.19.5.1\r\n",
      "pyfits==3.3\r\n",
      "pyflakes==0.9.2\r\n",
      "Pygments==2.0.2\r\n",
      "pyOpenSSL==0.15.1\r\n",
      "pyparsing==2.0.5\r\n",
      "pytest==2.7.1\r\n",
      "python-dateutil==2.4.2\r\n",
      "python-termstyle==0.1.10\r\n",
      "pytz==2015.7\r\n",
      "PyYAML==3.11\r\n",
      "pyzmq==14.7.0\r\n",
      "qtconsole==4.1.0\r\n",
      "redis==2.10.3\r\n",
      "rednose==0.4.3\r\n",
      "requests==2.9.0\r\n",
      "rope-py3k==0.9.4.post1\r\n",
      "runipy==0.1.3\r\n",
      "scikit-image==0.11.3\r\n",
      "scikit-learn==0.16.1\r\n",
      "scipy==0.16.0\r\n",
      "simplegeneric==0.8.1\r\n",
      "six==1.10.0\r\n",
      "snowballstemmer==1.2.1\r\n",
      "sockjs-tornado==1.0.1\r\n",
      "Sphinx==1.3.1\r\n",
      "sphinx-rtd-theme==0.1.9\r\n",
      "spyder==2.3.5.2\r\n",
      "SQLAlchemy==1.0.5\r\n",
      "statsmodels==0.6.1\r\n",
      "sympy==0.7.6\r\n",
      "tables==3.2.0\r\n",
      "terminado==0.5\r\n",
      "toolz==0.7.2\r\n",
      "tornado==4.2.1\r\n",
      "traitlets==4.0.0\r\n",
      "ujson==1.33\r\n",
      "Werkzeug==0.10.4\r\n",
      "wheel==0.26.0\r\n",
      "xlrd==0.9.3\r\n",
      "XlsxWriter==0.7.3\r\n",
      "xlwings==0.3.5\r\n",
      "xlwt==1.0.0\r\n"
     ]
    }
   ],
   "source": [
    "! pip freeze"
   ]
  },
  {
   "cell_type": "code",
   "execution_count": 3,
   "metadata": {
    "collapsed": false
   },
   "outputs": [
    {
     "name": "stdout",
     "output_type": "stream",
     "text": [
      "pandas==0.16.2\r\n"
     ]
    }
   ],
   "source": [
    "! pip freeze | grep pandas"
   ]
  },
  {
   "cell_type": "markdown",
   "metadata": {},
   "source": [
    "#### 3. bash"
   ]
  },
  {
   "cell_type": "code",
   "execution_count": 7,
   "metadata": {
    "collapsed": false
   },
   "outputs": [
    {
     "name": "stdout",
     "output_type": "stream",
     "text": [
      "a\n",
      "b\n",
      "c\n"
     ]
    }
   ],
   "source": [
    "%%bash\n",
    "for i in a b c;\n",
    "do\n",
    "echo $i\n",
    "done"
   ]
  },
  {
   "cell_type": "markdown",
   "metadata": {},
   "source": [
    "#### 4. matplotlib inline"
   ]
  },
  {
   "cell_type": "code",
   "execution_count": 8,
   "metadata": {
    "collapsed": true
   },
   "outputs": [],
   "source": [
    "% matplotlib inline"
   ]
  },
  {
   "cell_type": "markdown",
   "metadata": {},
   "source": [
    "#### 5. patebin"
   ]
  },
  {
   "cell_type": "code",
   "execution_count": 9,
   "metadata": {
    "collapsed": false
   },
   "outputs": [
    {
     "name": "stdout",
     "output_type": "stream",
     "text": [
      "'file.py' was not found in history, as a file, url, nor in the user namespace.\n"
     ]
    }
   ],
   "source": [
    "% pastebin 'file.py'"
   ]
  },
  {
   "cell_type": "markdown",
   "metadata": {},
   "source": [
    "#### 6. time"
   ]
  },
  {
   "cell_type": "code",
   "execution_count": 10,
   "metadata": {
    "collapsed": false
   },
   "outputs": [
    {
     "name": "stdout",
     "output_type": "stream",
     "text": [
      "CPU times: user 4 µs, sys: 1e+03 ns, total: 5 µs\n",
      "Wall time: 6.91 µs\n"
     ]
    }
   ],
   "source": [
    "%time x = range(10000)"
   ]
  },
  {
   "cell_type": "code",
   "execution_count": 1,
   "metadata": {
    "collapsed": false
   },
   "outputs": [
    {
     "name": "stdout",
     "output_type": "stream",
     "text": [
      "100 loops, best of 3: 7.11 ms per loop\n"
     ]
    }
   ],
   "source": [
    "%%timeit x = range(100000)\n",
    "max(x)"
   ]
  },
  {
   "cell_type": "code",
   "execution_count": 2,
   "metadata": {
    "collapsed": false
   },
   "outputs": [
    {
     "name": "stdout",
     "output_type": "stream",
     "text": [
      "do something!\n",
      "CPU times: user 18 µs, sys: 1 µs, total: 19 µs\n",
      "Wall time: 21.9 µs\n"
     ]
    }
   ],
   "source": [
    "%%time\n",
    "print(\"do something!\")"
   ]
  },
  {
   "cell_type": "markdown",
   "metadata": {},
   "source": [
    "#### 7. html"
   ]
  },
  {
   "cell_type": "code",
   "execution_count": 13,
   "metadata": {
    "collapsed": false
   },
   "outputs": [
    {
     "data": {
      "text/html": [
       "<img src=\"http://im.ft-static.com/content/images/fe8c18d8-bdbf-466d-809f-68266be65fe4.img\"><h1>Stemme S10VT</h1>"
      ],
      "text/plain": [
       "<IPython.core.display.HTML object>"
      ]
     },
     "metadata": {},
     "output_type": "display_data"
    }
   ],
   "source": [
    "%%html\n",
    "<img src=\"http://im.ft-static.com/content/images/fe8c18d8-bdbf-466d-809f-68266be65fe4.img\"><h1>Stemme S10VT</h1>"
   ]
  },
  {
   "cell_type": "code",
   "execution_count": null,
   "metadata": {
    "collapsed": true
   },
   "outputs": [],
   "source": []
  }
 ],
 "metadata": {
  "kernelspec": {
   "display_name": "Python 3",
   "language": "python",
   "name": "python3"
  },
  "language_info": {
   "codemirror_mode": {
    "name": "ipython",
    "version": 3
   },
   "file_extension": ".py",
   "mimetype": "text/x-python",
   "name": "python",
   "nbconvert_exporter": "python",
   "pygments_lexer": "ipython3",
   "version": "3.4.4"
  }
 },
 "nbformat": 4,
 "nbformat_minor": 0
}
