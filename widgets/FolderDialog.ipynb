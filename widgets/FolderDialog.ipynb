{
 "cells": [
  {
   "cell_type": "code",
   "execution_count": 1,
   "metadata": {
    "collapsed": true
   },
   "outputs": [],
   "source": [
    "%gui qt"
   ]
  },
  {
   "cell_type": "code",
   "execution_count": 2,
   "metadata": {
    "collapsed": true
   },
   "outputs": [],
   "source": [
    "try:\n",
    "    from PySide import QtCore, QtGui\n",
    "except ImportError:\n",
    "    from PyQt4 import QtCore, QtGui\n",
    "\n",
    "def gui_fname(dir=None):\n",
    "    \"\"\"Select a file via a dialog and returns the file name.\n",
    "    \"\"\"\n",
    "    if dir is None: dir ='./'\n",
    "    dir_name = QtGui.QFileDialog.getExistingDirectory(None, \"Select Folder ...\",\n",
    "                                                  dir,\n",
    "                                                  QtGui.QFileDialog.ShowDirsOnly)\n",
    "    return dir_name"
   ]
  },
  {
   "cell_type": "code",
   "execution_count": 4,
   "metadata": {
    "collapsed": false
   },
   "outputs": [],
   "source": [
    "%gui qt\n",
    "dir_name = gui_fname()\n",
    "%matplotlib inline"
   ]
  },
  {
   "cell_type": "code",
   "execution_count": 5,
   "metadata": {
    "collapsed": false
   },
   "outputs": [
    {
     "name": "stdout",
     "output_type": "stream",
     "text": [
      "/Volumes/Macintosh HD 2/IPTS/11774/code_11774/config\n"
     ]
    }
   ],
   "source": [
    "print(dir_name)"
   ]
  }
 ],
 "metadata": {
  "kernelspec": {
   "display_name": "Python 3",
   "language": "python",
   "name": "python3"
  },
  "language_info": {
   "codemirror_mode": {
    "name": "ipython",
    "version": 3
   },
   "file_extension": ".py",
   "mimetype": "text/x-python",
   "name": "python",
   "nbconvert_exporter": "python",
   "pygments_lexer": "ipython3",
   "version": "3.4.3"
  }
 },
 "nbformat": 4,
 "nbformat_minor": 0
}
