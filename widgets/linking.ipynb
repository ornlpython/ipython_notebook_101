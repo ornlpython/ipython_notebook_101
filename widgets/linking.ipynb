{
 "cells": [
  {
   "cell_type": "markdown",
   "metadata": {},
   "source": [
    "# Linking"
   ]
  },
  {
   "cell_type": "markdown",
   "metadata": {},
   "source": [
    "This allows to connect two widgets."
   ]
  },
  {
   "cell_type": "code",
   "execution_count": 29,
   "metadata": {
    "collapsed": false
   },
   "outputs": [],
   "source": [
    "from IPython.html import widgets\n",
    "from IPython.display import display"
   ]
  },
  {
   "cell_type": "code",
   "execution_count": 30,
   "metadata": {
    "collapsed": true
   },
   "outputs": [],
   "source": [
    "from IPython.utils import traitlets"
   ]
  },
  {
   "cell_type": "markdown",
   "metadata": {},
   "source": [
    "## On the server side"
   ]
  },
  {
   "cell_type": "markdown",
   "metadata": {},
   "source": [
    "### All 3 sliders care connected together"
   ]
  },
  {
   "cell_type": "code",
   "execution_count": 37,
   "metadata": {
    "collapsed": true
   },
   "outputs": [],
   "source": [
    "caption = widgets.Latex(value = 'The values of slider1, slider2 and slider3 are synchronized')\n",
    "sliders1, slider2, slider3 = widgets.IntSlider(description='Slider 1'),\\\n",
    "                             widgets.IntSlider(description='Slider 2'),\\\n",
    "                             widgets.IntSlider(description='Slider 3')\n",
    "l = traitlets.link((sliders1, 'value'), (slider2, 'value'), (slider3, 'value'))\n",
    "display(caption, sliders1, slider2, slider3)"
   ]
  },
  {
   "cell_type": "markdown",
   "metadata": {},
   "source": [
    "###The first slider defines the max value of the other 2 sliders"
   ]
  },
  {
   "cell_type": "code",
   "execution_count": 39,
   "metadata": {
    "collapsed": true
   },
   "outputs": [],
   "source": [
    "caption = widgets.Latex(value = 'The values of slider1, slider2 and slider3 are synchronized')\n",
    "sliders1, slider2, slider3 = widgets.IntSlider(description='Slider 1'),\\\n",
    "                             widgets.IntSlider(description='Slider 2'),\\\n",
    "                             widgets.IntSlider(description='Slider 3')\n",
    "l = traitlets.link((sliders1, 'value'), (slider2, 'max'), (slider3, 'max'))\n",
    "display(caption, sliders1, slider2, slider3)"
   ]
  },
  {
   "cell_type": "markdown",
   "metadata": {},
   "source": [
    "###this is using the directional link (*dlink*) where only the first slider force a link to the other sliders"
   ]
  },
  {
   "cell_type": "code",
   "execution_count": 34,
   "metadata": {
    "collapsed": true
   },
   "outputs": [],
   "source": [
    "caption = widgets.Latex(value = 'Changes in source values are reflected in target1 and target2')\n",
    "source, target1, target2 = widgets.IntSlider(description='Source'),\\\n",
    "                           widgets.IntSlider(description='Target 1'),\\\n",
    "                           widgets.IntSlider(description='Target 2')\n",
    "traitlets.dlink((source, 'value'), (target1, 'value'), (target2, 'value'))\n",
    "display(caption, source, target1, target2)"
   ]
  },
  {
   "cell_type": "code",
   "execution_count": 35,
   "metadata": {
    "collapsed": true
   },
   "outputs": [],
   "source": [
    "l.unlink()  #break the link"
   ]
  },
  {
   "cell_type": "markdown",
   "metadata": {},
   "source": [
    "## On the client side"
   ]
  },
  {
   "cell_type": "code",
   "execution_count": 36,
   "metadata": {
    "collapsed": true
   },
   "outputs": [],
   "source": [
    "caption = widgets.Latex(value = 'The values of range1, range2 and range3 are synchronized')\n",
    "range1, range2, range3 = widgets.IntSlider(description='Range 1'),\\\n",
    "                         widgets.IntSlider(description='Range 2'),\\\n",
    "                         widgets.IntSlider(description='Range 3')\n",
    "l = widgets.jslink((range1, 'value'), (range2, 'value'), (range3, 'value'))\n",
    "display(caption, range1, range2, range3)"
   ]
  },
  {
   "cell_type": "code",
   "execution_count": 38,
   "metadata": {
    "collapsed": true
   },
   "outputs": [],
   "source": [
    "caption = widgets.Latex(value = 'Changes in source_range values are reflected in target_range1 and target_range2')\n",
    "source_range, target_range1, target_range2 = widgets.IntSlider(description='Source range'),\\\n",
    "                                             widgets.IntSlider(description='Target range 1'),\\\n",
    "                                             widgets.IntSlider(description='Target range 2')\n",
    "widgets.jsdlink((source_range, 'value'), (target_range1, 'value'), (target_range2, 'value'))\n",
    "display(caption, source_range, target_range1, target_range2)"
   ]
  },
  {
   "cell_type": "code",
   "execution_count": null,
   "metadata": {
    "collapsed": true
   },
   "outputs": [],
   "source": []
  }
 ],
 "metadata": {
  "kernelspec": {
   "display_name": "Python 3",
   "language": "python",
   "name": "python3"
  },
  "language_info": {
   "codemirror_mode": {
    "name": "ipython",
    "version": 3
   },
   "file_extension": ".py",
   "mimetype": "text/x-python",
   "name": "python",
   "nbconvert_exporter": "python",
   "pygments_lexer": "ipython3",
   "version": "3.4.3"
  }
 },
 "nbformat": 4,
 "nbformat_minor": 0
}
